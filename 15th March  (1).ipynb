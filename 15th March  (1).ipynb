{
 "cells": [
  {
   "cell_type": "markdown",
   "id": "f2deaf50-19b3-4888-b6be-e790571c22e4",
   "metadata": {},
   "source": [
    "# Q1- Explain the following with an example:\n",
    "    (i) Artificial Intelligence\n",
    "    (ii) Machine Learning\n",
    "    (iii) Deep Learning"
   ]
  },
  {
   "cell_type": "markdown",
   "id": "1de9e86f-a995-427d-a88c-54bae3be4414",
   "metadata": {},
   "source": [
    "Artificial Intelligence (AI) is the ability of a machine to perform tasks that would typically require human intelligence, such as speech recognition and decision-making. For example, AI-powered virtual assistants like Siri and Alexa can understand natural language and perform tasks like setting reminders, making phone calls, and playing music.\n",
    "\n",
    "Machine Learning (ML) is a subset of AI that involves training a machine to learn from data and make predictions or decisions without being explicitly programmed. An example of machine learning is a spam filter that learns to identify and block unwanted emails based on user feedback.\n",
    "\n",
    "Deep Learning is a subset of machine learning that uses artificial neural networks to model and solve complex problems. A notable example of deep learning is image recognition, where a deep neural network can accurately classify images based on their content, enabling applications like self-driving cars and medical diagnosis."
   ]
  },
  {
   "cell_type": "markdown",
   "id": "2f3859a5-a3d9-4f4d-ad92-b874d6c3b597",
   "metadata": {},
   "source": [
    "# Q2- What is supervised learning? List some examples of supervised learning."
   ]
  },
  {
   "cell_type": "markdown",
   "id": "6dbcd0fd-94af-4cfc-809a-d7224e4799e2",
   "metadata": {},
   "source": [
    "Supervised learning is a type of machine learning where a model is trained on a labeled dataset, meaning that the data has input features and corresponding output labels. The goal of supervised learning is to learn a mapping function from input to output that can be used to make predictions on new, unseen data. In other words, the model is trained to predict the output given the input.\n",
    "\n",
    "Examples of supervised learning include:\n",
    "\n",
    "(i) Image classification: Given an image, predict the category it belongs to (e.g. cat or dog). (ii) Speech recognition: Given an audio clip, transcribe it into text. (iii) Sentiment analysis: Given a text input, classify it as positive, negative, or neutral. (iv) Regression analysis: Given numerical input data, predict a continuous numerical output value, such as the price of a house based on its features. (v) Fraud detection: Given information about a transaction, predict whether it is likely to be fraudulent or not."
   ]
  },
  {
   "cell_type": "markdown",
   "id": "704b5605-0242-40fa-a765-c02d69e9aaaa",
   "metadata": {},
   "source": [
    " # What is unsupervised learning? List some exmples of unsupervised learning."
   ]
  },
  {
   "cell_type": "markdown",
   "id": "ca8172d5-2aa7-4844-8a98-55ceaa73b39e",
   "metadata": {},
   "source": [
    "Unsupervised learning is a type of machine learning where the model is trained on an unlabeled dataset, meaning that the data has no corresponding output labels. The goal of unsupervised learning is to discover patterns or relationships in the data without being explicitly told what to look for. In other words, the model is left to its own devices to find structure in the data.\n",
    "\n",
    "Examples of unsupervised learning include:\n",
    "\n",
    "Clustering: Grouping together similar data points based on their attributes. This can be used for customer segmentation, image segmentation, and more. Dimensionality reduction: Reducing the number of features in a dataset while retaining as much of the original information as possible. This can be used for data compression, visualization, and feature engineering. Anomaly detection: Identifying data points that are significantly different from the rest of the data. This can be used for fraud detection, network intrusion detection, and more."
   ]
  },
  {
   "cell_type": "markdown",
   "id": "375b2609-e0e0-489d-a22d-0b4d53883fb3",
   "metadata": {},
   "source": [
    "# Q4- What is the difference between AI, ML, DL, and DS?"
   ]
  },
  {
   "cell_type": "markdown",
   "id": "ca21f5d8-09af-4ff6-a76d-c2cb9020520c",
   "metadata": {},
   "source": [
    "AI is the broadest term that encompasses the ability of a machine to perform tasks that would typically require human intelligence. ML is a subset of AI that involves training a machine to learn from data. DL is a subset of ML that uses artificial neural networks to solve complex problems. DS, or Data Science, is a field that encompasses the use of statistical and computational techniques to extract insights and knowledge from data."
   ]
  },
  {
   "cell_type": "markdown",
   "id": "29be0a3e-c70c-4cbf-90d5-50a36cd4adb3",
   "metadata": {},
   "source": [
    "# Q5- What are the main differnces between supervised, unsupervised, and semi-supervised learning?"
   ]
  },
  {
   "cell_type": "markdown",
   "id": "aae2256e-e515-4d49-9df3-070e9eed2a5a",
   "metadata": {},
   "source": [
    "The main differences between supervised, unsupervised, and semi-supervised learning are:\n",
    "\n",
    "(i) Supervised learning:\n",
    "\n",
    "Uses labeled data, where each input has a corresponding output label The goal is to learn a mapping function from input to output that can be used to make predictions on new, unseen data Examples include image classification, sentiment analysis, and regression analysis\n",
    "\n",
    "(ii) Unsupervised learning:\n",
    "\n",
    "Uses unlabeled data, where there are no corresponding output labels The goal is to discover patterns or relationships in the data without being explicitly told what to look for Examples include clustering, dimensionality reduction, and anomaly detection\n",
    "\n",
    "(iii) Semi-supervised learning:\n",
    "\n",
    "Uses a combination of labeled and unlabeled data The goal is to improve the performance of a supervised learning model by using unlabeled data to improve its ability to generalize to new, unseen data Examples include speech recognition, natural language processing, and image classification."
   ]
  },
  {
   "cell_type": "code",
   "execution_count": 1,
   "id": "3588812b-054c-4ce8-bf43-88bc7c3b756e",
   "metadata": {},
   "outputs": [],
   "source": [
    "# Q6- What is train, test and validation split? Explain the importance of each term."
   ]
  },
  {
   "cell_type": "markdown",
   "id": "13b181b7-32bb-4a4e-afdb-f9d15f1a41bb",
   "metadata": {},
   "source": [
    "Train, test, and validation split is a common practice in machine learning where the dataset is divided into three parts: a training set, a validation set, and a test set. The training set is used to train the model, the validation set is used to tune model parameters and avoid overfitting, and the test set is used to evaluate the model's performance on new, unseen data.\n",
    "\n",
    "The importance of each term is as follows: (i) Train: Used to train the model and adjust its parameters. (ii) Validation: Used to evaluate the performance of the model during training and make adjustments to prevent overfitting. (iii) Test: Used to evaluate the final performance of the model on new, unseen data and ensure that it can generalize well to real-world scenarios."
   ]
  },
  {
   "cell_type": "code",
   "execution_count": 2,
   "id": "1f578ab3-b809-4729-8359-261100674aee",
   "metadata": {},
   "outputs": [],
   "source": [
    "# Q7- How can unsupervised learing be used in anomaly detection?"
   ]
  },
  {
   "cell_type": "markdown",
   "id": "2e54d8fe-328f-4f04-a9c8-4b14af02b7e3",
   "metadata": {},
   "source": [
    "Unsupervised learning can be used in anomaly detection by training the model on normal data and identifying data points that are significantly different from the rest of the data. Clustering and dimensionality reduction techniques can also be used to identify anomalies in the data based on their deviation from normal patterns or relationships."
   ]
  },
  {
   "cell_type": "code",
   "execution_count": 3,
   "id": "462d6726-e137-4fcf-a509-33e8f1acc50f",
   "metadata": {},
   "outputs": [],
   "source": [
    "# Q8- List down some commonly used supervised learning algorithms and unsupervised learning algorithms."
   ]
  },
  {
   "cell_type": "markdown",
   "id": "37d65ef8-cf1e-4057-9ede-b08bc194ed8d",
   "metadata": {},
   "source": [
    "Here are some commonly used supervised learning algorithms: (i) Linear regression (ii) Logistic regression (iii) Decision trees (iv) Random forests (v) Support vector machines (SVM) (vi) K-nearest neighbors (KNN) (vii) Naive Bayes (viii) Neural networks\n",
    "\n",
    "Here are some commonly used unsupervised learning algorithms: (i) K-means clustering (ii) Hierarchical clustering (iii) Principal component analysis (PCA) (iv) t-SNE (t-distributed stochastic neighbor embedding) (v) DBSCAN (density-based spatial clustering of applications with noise) (vi) Isolation Forest (vii) Autoencoders (viii) Generative Adversarial Networks (GANs)"
   ]
  },
  {
   "cell_type": "code",
   "execution_count": null,
   "id": "70633fb3-23dc-4aef-9c73-ce6985886d35",
   "metadata": {},
   "outputs": [],
   "source": []
  }
 ],
 "metadata": {
  "kernelspec": {
   "display_name": "Python 3 (ipykernel)",
   "language": "python",
   "name": "python3"
  },
  "language_info": {
   "codemirror_mode": {
    "name": "ipython",
    "version": 3
   },
   "file_extension": ".py",
   "mimetype": "text/x-python",
   "name": "python",
   "nbconvert_exporter": "python",
   "pygments_lexer": "ipython3",
   "version": "3.10.8"
  }
 },
 "nbformat": 4,
 "nbformat_minor": 5
}
