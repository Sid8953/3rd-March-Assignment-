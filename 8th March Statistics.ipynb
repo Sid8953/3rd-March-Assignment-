{
 "cells": [
  {
   "cell_type": "markdown",
   "id": "dc89c402-b6cb-4757-9abb-b1de08e7caef",
   "metadata": {},
   "source": [
    "# Ans 1\n",
    "\n",
    "A Probability Density Function (PDF) is a mathematical function that describes the relative likelihood of a continuous random variable taking on a given value. The PDF represents the distribution of probabilities for all possible values of the random variable, and the area under the curve of the PDF between any two values of the variable gives the probability of the variable taking a value within that range.\n",
    "\n",
    "The PDF can be thought of as a continuous version of a probability distribution. Unlike a discrete probability distribution, which assigns a probability to each possible value of a discrete random variable, the PDF assigns probabilities to ranges of possible values of a continuous random variable.\n",
    "\n",
    "Mathematically, the PDF is defined as the derivative of the cumulative distribution function (CDF) of the random variable. The PDF is non-negative and integrates to one over the entire range of the random variable."
   ]
  },
  {
   "cell_type": "markdown",
   "id": "c6af2eef-e7f2-49c1-8f95-0f4462aca122",
   "metadata": {},
   "source": [
    "# Ans 2\n",
    "\n",
    "There are many different types of probability distributions, but they can be broadly classified into two categories: discrete probability distributions and continuous probability distributions.\n",
    "\n",
    "Discrete Probability Distributions: Discrete probability distributions are used to describe the probability of occurrence of discrete random variables. Examples of discrete probability distributions include the Bernoulli distribution, binomial distribution, Poisson distribution, and geometric distribution.\n",
    "\n",
    "Continuous Probability Distributions: Continuous probability distributions are used to describe the probability of occurrence of continuous random variables. Examples of continuous probability distributions include the normal distribution, uniform distribution, exponential distribution, and beta distribution.\n",
    "\n",
    "The choice of probability distribution depends on the nature of the data and the specific problem at hand. The appropriate distribution should be chosen to accurately model the data and to make inferences and predictions about the population of interest."
   ]
  },
  {
   "cell_type": "markdown",
   "id": "26ca9701-5fca-4771-8489-3a4b58dd6130",
   "metadata": {},
   "source": [
    "# Ans 3\n",
    "\n"
   ]
  },
  {
   "cell_type": "code",
   "execution_count": 2,
   "id": "d3151354-fc07-4761-8e9a-8df0d84971c3",
   "metadata": {},
   "outputs": [
    {
     "name": "stdout",
     "output_type": "stream",
     "text": [
      "0.05399096651318806\n"
     ]
    }
   ],
   "source": [
    "import math\n",
    "\n",
    "def normal_pdf(x, mu, sigma):\n",
    "    \"\"\"\n",
    "    Calculates the probability density function of a normal distribution with mean mu and standard deviation sigma at the point x.\n",
    "    \"\"\"\n",
    "    exponent = -0.5 * ((x - mu) / sigma) ** 2\n",
    "    coefficient = 1 / (sigma * math.sqrt(2 * math.pi))\n",
    "    return coefficient * math.exp(exponent)\n",
    "\n",
    "pdf_value = normal_pdf(x=2, mu=0, sigma=1)\n",
    "print(pdf_value)"
   ]
  },
  {
   "cell_type": "markdown",
   "id": "74f1a805-64e5-4fa2-a21a-9824959dc29e",
   "metadata": {},
   "source": [
    "# Ans 4\n",
    "\n",
    "The binomial distribution is a discrete probability distribution that describes the probability of a fixed number of successes in a fixed number of independent Bernoulli trials, where each trial has the same probability of success.\n",
    "\n",
    "The properties of the binomial distribution are:\n",
    "\n",
    "Fixed number of trials: The number of trials is fixed and denoted by n. Independent trials: Each trial is independent of the others. Two possible outcomes: Each trial has only two possible outcomes, success or failure. Constant probability of success: The probability of success, denoted by p, is constant for all trials. Discrete values: The number of successes, denoted by k, is a discrete variable that takes values from 0 to n. Two examples of events where binomial distribution can be applied are:\n",
    "\n",
    "Tossing a Coin: When tossing a fair coin, there are two possible outcomes - heads or tails - with a fixed probability of 0.5 for each outcome. If we toss the coin n times and want to know the probability of getting k heads, we can model this as a binomial distribution with n trials, a probability of success of 0.5, and the number of successes k.\n",
    "\n",
    "Manufacturing Defects: A company manufactures electronic components that have a defect rate of 2%. If we randomly sample n components from the production line and want to know the probability that k of them are defective, we can model this as a binomial distribution with n trials, a probability of success of 0.02 (the probability of a component being defective), and the number of successes k.\n",
    "\n",
    "In both of these examples, the binomial distribution allows us to model the probability of a fixed number of successes in a fixed number of independent trials, where each trial has the same probability of success."
   ]
  },
  {
   "cell_type": "markdown",
   "id": "e36a75a9-953b-4bba-ac77-a68f9c52aa7c",
   "metadata": {},
   "source": [
    "# Ans 5"
   ]
  },
  {
   "cell_type": "code",
   "execution_count": 3,
   "id": "c8a01cea-4b8e-477e-af08-cf9e56236fe6",
   "metadata": {},
   "outputs": [
    {
     "data": {
      "image/png": "[encoded data removed]",
      "text/plain": [
       "<Figure size 640x480 with 1 Axes>"
      ]
     },
     "metadata": {},
     "output_type": "display_data"
    }
   ],
   "source": [
    "import numpy as np\n",
    "import matplotlib.pyplot as plt\n",
    "\n",
    "# Set the parameters of the binomial distribution\n",
    "n = 10\n",
    "p = 0.4\n",
    "\n",
    "# Generate a random sample of size 1000 from the binomial distribution\n",
    "sample = np.random.binomial(n, p, size=1000)\n",
    "\n",
    "# Plot a histogram of the results\n",
    "plt.hist(sample, bins=range(n+1), align='left', rwidth=0.8)\n",
    "plt.xticks(range(n))\n",
    "plt.xlabel('Number of Successes')\n",
    "plt.ylabel('Frequency')\n",
    "plt.title('Histogram of Binomial Distribution (n={}, p={})'.format(n, p))\n",
    "plt.show()"
   ]
  },
  {
   "cell_type": "markdown",
   "id": "487e03a6-4d93-4212-9d30-6ad999da8d2f",
   "metadata": {},
   "source": [
    "# Ans 6"
   ]
  },
  {
   "cell_type": "code",
   "execution_count": 5,
   "id": "a8bd36b6-726b-42c3-ad34-2a4f6e31cbc3",
   "metadata": {},
   "outputs": [
    {
     "name": "stdout",
     "output_type": "stream",
     "text": [
      "The cumulative distribution function of a Poisson distribution with mean 2.5 at point 3 is 0.7576\n"
     ]
    }
   ],
   "source": [
    "import math\n",
    "\n",
    "def poisson_cdf(mu, k):\n",
    "    cdf = 0.0\n",
    "    for i in range(k+1):\n",
    "        cdf += math.exp(-mu) * (mu ** i) / math.factorial(i)\n",
    "    return cdf\n",
    "mu = 2.5\n",
    "k = 3\n",
    "cdf = poisson_cdf(mu, k)\n",
    "print(\"The cumulative distribution function of a Poisson distribution with mean {} at point {} is {:.4f}\".format(mu, k, cdf))"
   ]
  },
  {
   "cell_type": "markdown",
   "id": "bdc37485-40d2-44d9-b4ad-3b43939773e2",
   "metadata": {},
   "source": [
    "# Ans 7"
   ]
  },
  {
   "cell_type": "markdown",
   "id": "16e80e89-8d73-46fc-b3e4-21035e1798f8",
   "metadata": {},
   "source": [
    "Binomial distribution and Poisson distribution are both discrete probability distributions that describe the number of events that occur in a given number of trials. However, there are some key differences between the two distributions.\n",
    "\n",
    "1>Parameters: The Binomial distribution is characterized by two parameters: the number of trials n and the probability of success p. In contrast, the Poisson distribution is characterized by one parameter: the average rate λ at which events occur.\n",
    "\n",
    "2>Application: The Binomial distribution is used to model the number of successes in a fixed number of independent trials, where the probability of success is constant across all trials. The Poisson distribution, on the other hand, is used to model the number of rare events that occur over a fixed interval of time or space.\n",
    "\n",
    "3>Shape: The shape of the Binomial distribution is symmetric when p = 0.5, and becomes increasingly skewed as p approaches 0 or 1. In contrast, the Poisson distribution is typically skewed to the right, and becomes more symmetric as the rate parameter λ increases.\n",
    "\n",
    "4>Limitations: The Binomial distribution is appropriate when the number of trials n is large and the probability of success p is small, but the mean np is not too small. The Poisson distribution is appropriate when the rate parameter λ is small, but the product of the rate and the observation time or space is moderate to large."
   ]
  },
  {
   "cell_type": "code",
   "execution_count": null,
   "id": "32ad7771-93fb-4ccc-98a1-e930d71ba27b",
   "metadata": {},
   "outputs": [],
   "source": [
    "# Ans "
   ]
  }
 ],
 "metadata": {
  "kernelspec": {
   "display_name": "Python 3 (ipykernel)",
   "language": "python",
   "name": "python3"
  },
  "language_info": {
   "codemirror_mode": {
    "name": "ipython",
    "version": 3
   },
   "file_extension": ".py",
   "mimetype": "text/x-python",
   "name": "python",
   "nbconvert_exporter": "python",
   "pygments_lexer": "ipython3",
   "version": "3.10.8"
  }
 },
 "nbformat": 4,
 "nbformat_minor": 5
}
