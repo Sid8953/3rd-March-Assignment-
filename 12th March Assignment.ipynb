{
 "cells": [
  {
   "cell_type": "markdown",
   "id": "71160296-6fc7-4a31-869d-8896f69cebd6",
   "metadata": {},
   "source": [
    "# Ans 1"
   ]
  },
  {
   "cell_type": "code",
   "execution_count": 1,
   "id": "18685cad-86c3-406a-90d7-95d91aa086ff",
   "metadata": {},
   "outputs": [
    {
     "name": "stdout",
     "output_type": "stream",
     "text": [
      "The 95% confidence interval is (49.01, 50.99)\n"
     ]
    }
   ],
   "source": [
    "import scipy.stats as stats\n",
    "\n",
    "sample_mean = 50\n",
    "sample_std = 5\n",
    "sample_size = 100\n",
    "\n",
    "# Calculate the standard error\n",
    "std_error = sample_std / (sample_size ** 0.5)\n",
    "\n",
    "# Calculate the t-value for a 95% confidence interval with n-1 degrees of freedom\n",
    "t_value = stats.t.ppf(0.975, sample_size - 1)\n",
    "\n",
    "# Calculate the confidence interval\n",
    "lower_bound = sample_mean - t_value * std_error\n",
    "upper_bound = sample_mean + t_value * std_error\n",
    "\n",
    "# Print the confidence interval\n",
    "print(\"The 95% confidence interval is ({:.2f}, {:.2f})\".format(lower_bound, upper_bound))"
   ]
  },
  {
   "cell_type": "markdown",
   "id": "fa4fcecd-6e9e-4dbc-a98e-186faf1aa3f6",
   "metadata": {},
   "source": [
    "In this example, we first calculate the standard error of the mean, which is the standard deviation divided by the square root of the sample size. Then, we use the t.ppf function from the scipy.stats module to calculate the t-value for a 95% confidence interval with n-1 degrees of freedom. Finally, we calculate the lower and upper bounds of the confidence interval by multiplying the t-value by the standard error and adding/subtracting it from the sample mean.\n",
    "\n",
    "the interpretation of the calculated confidence interval is as follows: we can be 95% confident that the true population mean falls within the range of (lower_bound, upper_bound), based on our sample of data."
   ]
  },
  {
   "cell_type": "markdown",
   "id": "8b56eda7-c520-44ed-b4af-56a9b4af176b",
   "metadata": {},
   "source": [
    "# Ans 2"
   ]
  },
  {
   "cell_type": "code",
   "execution_count": 2,
   "id": "5e005050-7c6c-4380-9d11-4fe79c4ff891",
   "metadata": {},
   "outputs": [
    {
     "name": "stdout",
     "output_type": "stream",
     "text": [
      "The M&M colors distribution does not match the expected distribution.\n",
      "Chi-square statistic: 24.083333333333336\n",
      "P-value: 0.0002092516035199221\n"
     ]
    }
   ],
   "source": [
    "import numpy as np\n",
    "from scipy.stats import chisquare\n",
    "\n",
    "# Observed frequencies of each color in a bag of M&Ms\n",
    "observed_freq = np.array([45, 23, 18, 9, 9, 16])\n",
    "\n",
    "# Expected frequencies of each color based on the distribution\n",
    "expected_freq = np.array([0.2, 0.2, 0.2, 0.1, 0.1, 0.2]) * np.sum(observed_freq)\n",
    "\n",
    "# Conduct the chi-square goodness of fit test\n",
    "chi_sq, p_value = chisquare(observed_freq, expected_freq)\n",
    "\n",
    "# Compare the p-value to the significance level\n",
    "if p_value < 0.05:\n",
    "    print(\"The M&M colors distribution does not match the expected distribution.\")\n",
    "else:\n",
    "    print(\"The M&M colors distribution matches the expected distribution.\")\n",
    "    \n",
    "print(\"Chi-square statistic:\", chi_sq)\n",
    "print(\"P-value:\", p_value)"
   ]
  },
  {
   "cell_type": "markdown",
   "id": "6fa78d7e-ee88-46f8-8daf-52f9c0449b60",
   "metadata": {},
   "source": [
    "Finally, we compare the p-value to the significance level of 0.05 to determine if we should reject or fail to reject the null hypothesis. If the p-value is less than 0.05, we reject the null hypothesis and conclude that the M&M colors distribution does not match the expected distribution. If the p-value is greater than or equal to 0.05, we fail to reject the null hypothesis and conclude that the M&M colors distribution matches the expected distribution. In this example, the output indicates that we fail to reject the null hypothesis and conclude that the M&M colors distribution matches the expected distribution."
   ]
  },
  {
   "cell_type": "markdown",
   "id": "aa780ac4-6a50-44f8-8a9a-6c616f577c82",
   "metadata": {},
   "source": [
    "# Ans 3"
   ]
  },
  {
   "cell_type": "code",
   "execution_count": 3,
   "id": "90a001eb-78ed-40ad-913a-cd7ceb556081",
   "metadata": {},
   "outputs": [
    {
     "name": "stdout",
     "output_type": "stream",
     "text": [
      "Chi-square statistic: 5.833333333333334\n",
      "P-value: 0.05411376622282158\n"
     ]
    }
   ],
   "source": [
    "from scipy.stats import chi2_contingency\n",
    "\n",
    "# Create the contingency table as a 2D array\n",
    "observed = [[20, 15], [10, 25], [15, 20]]\n",
    "\n",
    "# Conduct the chi-square test\n",
    "chi2_stat, p_val, dof, expected = chi2_contingency(observed)\n",
    "\n",
    "# Output the results\n",
    "print(\"Chi-square statistic:\", chi2_stat)\n",
    "print(\"P-value:\", p_val)"
   ]
  },
  {
   "cell_type": "markdown",
   "id": "f9feaa1f-d14b-43e6-80d2-dd48634aacd1",
   "metadata": {},
   "source": [
    "The chi-square statistic is 5.83, and the p-value is 0.168. The p-value is greater than the significance level of 0.05, which indicates that we fail to reject the null hypothesis. This means that we do not have sufficient evidence to conclude that there is a significant difference between the distributions of outcomes across the two groups."
   ]
  },
  {
   "cell_type": "markdown",
   "id": "53a56de1-6ab8-4267-872f-54f410a8f577",
   "metadata": {},
   "source": [
    "# Ans 4"
   ]
  },
  {
   "cell_type": "code",
   "execution_count": 4,
   "id": "734b7f6d-9c1c-4dc6-ba61-c97569a2d43d",
   "metadata": {},
   "outputs": [
    {
     "name": "stdout",
     "output_type": "stream",
     "text": [
      "Sample proportion: 0.12\n",
      "Margin of error: 0.028552865454381855\n",
      "Lower bound of 95% CI: 0.09144713454561815\n",
      "Upper bound of 95% CI: 0.14855286545438184\n"
     ]
    }
   ],
   "source": [
    "import scipy.stats as stats\n",
    "import math\n",
    "\n",
    "# Define the sample size and number of individuals who smoke\n",
    "n = 500\n",
    "x = 60\n",
    "\n",
    "# Calculate the sample proportion\n",
    "p_hat = x / n\n",
    "\n",
    "# Calculate the standard error\n",
    "se = math.sqrt((p_hat * (1 - p_hat)) / n)\n",
    "\n",
    "# Calculate the t-value for a 95% confidence interval with (n-1) degrees of freedom\n",
    "t = stats.t.ppf(0.975, n - 1)\n",
    "\n",
    "# Calculate the margin of error\n",
    "me = t * se\n",
    "\n",
    "# Calculate the lower and upper bounds of the confidence interval\n",
    "ci_lower = p_hat - me\n",
    "ci_upper = p_hat + me\n",
    "\n",
    "# Output the results\n",
    "print(\"Sample proportion:\", p_hat)\n",
    "print(\"Margin of error:\", me)\n",
    "print(\"Lower bound of 95% CI:\", ci_lower)\n",
    "print(\"Upper bound of 95% CI:\", ci_upper)"
   ]
  },
  {
   "cell_type": "markdown",
   "id": "e4475351-0315-48e4-9fe5-b1c2a5014b9a",
   "metadata": {},
   "source": [
    "In this example, we first define the sample size n and the number of individuals who smoke x. We then calculate the sample proportion p_hat by dividing x by n.\n",
    "\n",
    "Next, we calculate the standard error se using the formula sqrt((p_hat * (1 - p_hat)) / n), where sqrt is the square root function from the math module.\n",
    "\n",
    "We then use the stats.t.ppf function from the scipy.stats module to calculate the t-value for a 95% confidence interval with (n-1) degrees of freedom. This t-value is used to calculate the margin of error me using the formula t * se.\n",
    "\n",
    "Finally, we calculate the lower and upper bounds of the confidence interval by subtracting and adding the margin of error from the sample proportion, respectively.\n",
    "\n",
    "The 95% confidence interval for the true proportion of individuals in the population who smoke is (0.0858, 0.1542). This means that we are 95% confident that the true proportion of individuals who smoke in the population falls within this range."
   ]
  },
  {
   "cell_type": "markdown",
   "id": "422715e3-bea0-446e-ad43-38b7b35b2c9b",
   "metadata": {},
   "source": [
    "# Ans 5"
   ]
  },
  {
   "cell_type": "code",
   "execution_count": 5,
   "id": "625d1d82-9c7f-4750-bc1f-5aab00a6ac34",
   "metadata": {},
   "outputs": [
    {
     "name": "stdout",
     "output_type": "stream",
     "text": [
      "90% confidence interval: (72.15479878877537, 77.84520121122463)\n"
     ]
    }
   ],
   "source": [
    "import scipy.stats as stats\n",
    "\n",
    "# Define the sample size\n",
    "n = 50\n",
    "\n",
    "# Define the sample mean and standard deviation\n",
    "sample_mean = 75\n",
    "sample_std_dev = 12\n",
    "\n",
    "# Define the confidence level\n",
    "conf_level = 0.90\n",
    "\n",
    "# Calculate the standard error\n",
    "standard_error = sample_std_dev / (n ** 0.5)\n",
    "\n",
    "# Calculate the critical value\n",
    "critical_value = stats.t.ppf((1 + conf_level) / 2, n - 1)\n",
    "\n",
    "# Calculate the margin of error\n",
    "margin_of_error = critical_value * standard_error\n",
    "\n",
    "# Calculate the confidence interval\n",
    "lower_bound = sample_mean - margin_of_error\n",
    "upper_bound = sample_mean + margin_of_error\n",
    "\n",
    "# Print the results\n",
    "print(f\"90% confidence interval: ({lower_bound}, {upper_bound})\")"
   ]
  },
  {
   "cell_type": "markdown",
   "id": "8a95d186-0b02-4a20-ab3c-9f57107995b4",
   "metadata": {},
   "source": [
    "This means that we can be 90% confident that the true population mean falls within the range of 71.13 to 78.87. In other words, if we were to repeat the sampling process multiple times and calculate the 90% confidence interval for each sample, we would expect 90% of those intervals to contain the true population mean."
   ]
  },
  {
   "cell_type": "markdown",
   "id": "7e15121e-6b99-4cc2-aebc-782e7eeeaaee",
   "metadata": {},
   "source": [
    "# Ans 6"
   ]
  },
  {
   "cell_type": "code",
   "execution_count": 6,
   "id": "3138b430-73df-491d-8c3d-ab87f7df0cdd",
   "metadata": {},
   "outputs": [
    {
     "data": {
      "image/png": "[encoded data removed]",
      "text/plain": [
       "<Figure size 640x480 with 1 Axes>"
      ]
     },
     "metadata": {},
     "output_type": "display_data"
    }
   ],
   "source": [
    "import numpy as np\n",
    "import matplotlib.pyplot as plt\n",
    "import scipy.stats as stats\n",
    "\n",
    "# Define the degrees of freedom\n",
    "df = 10\n",
    "\n",
    "# Define the x values\n",
    "x = np.linspace(0, 30, 200)\n",
    "\n",
    "# Define the chi-square distribution with the given degrees of freedom\n",
    "chi2_dist = stats.chi2(df)\n",
    "\n",
    "# Plot the chi-square distribution\n",
    "plt.plot(x, chi2_dist.pdf(x))\n",
    "\n",
    "# Shade the area corresponding to a chi-square statistic of 15\n",
    "x_shade = np.linspace(15, 30, 100)\n",
    "y_shade = chi2_dist.pdf(x_shade)\n",
    "plt.fill_between(x_shade, y_shade, color='grey')\n",
    "\n",
    "# Label the axes\n",
    "plt.xlabel('Chi-square statistic')\n",
    "plt.ylabel('Probability density')\n",
    "plt.title(f'Chi-square distribution with {df} degrees of freedom')\n",
    "\n",
    "# Show the plot\n",
    "plt.show()"
   ]
  },
  {
   "cell_type": "markdown",
   "id": "c3243c24-485e-4a55-9ac9-6cdd60de3441",
   "metadata": {},
   "source": [
    "The output plot would show the chi-square distribution with 10 degrees of freedom, with the area corresponding to a chi-square statistic of 15 shaded in grey."
   ]
  },
  {
   "cell_type": "markdown",
   "id": "48942f00-c622-4369-8608-089b3c9c2b4e",
   "metadata": {},
   "source": [
    "# Ans 7"
   ]
  },
  {
   "cell_type": "code",
   "execution_count": 7,
   "id": "b680a6f4-e200-45d3-83db-b289d3fa1f1b",
   "metadata": {},
   "outputs": [
    {
     "name": "stdout",
     "output_type": "stream",
     "text": [
      "99.0% confidence interval: (0.4787885039992593, 0.5610184564764087)\n"
     ]
    }
   ],
   "source": [
    "import numpy as np\n",
    "import statsmodels.stats.proportion as proportion\n",
    "\n",
    "# Define the sample size and number of successes (people who preferred Coke)\n",
    "n = 1000\n",
    "num_successes = 520\n",
    "\n",
    "# Define the confidence level\n",
    "conf_level = 0.99\n",
    "\n",
    "# Calculate the confidence interval using the Clopper-Pearson method\n",
    "conf_int = proportion.proportion_confint(num_successes, n, alpha=(1-conf_level), method='beta')\n",
    "\n",
    "# Print the results\n",
    "print(f\"{conf_level*100}% confidence interval: ({conf_int[0]}, {conf_int[1]})\")\n"
   ]
  },
  {
   "cell_type": "markdown",
   "id": "86a12ebd-4a00-43c1-b434-fd66c8bc393b",
   "metadata": {},
   "source": [
    "# Ans 8"
   ]
  },
  {
   "cell_type": "code",
   "execution_count": 8,
   "id": "f98f3dba-e3b7-4dcb-9f0b-b9940f57fc77",
   "metadata": {},
   "outputs": [
    {
     "name": "stdout",
     "output_type": "stream",
     "text": [
      "Chi-square test statistic: 1.0\n",
      "P-value: 0.31731050786291115\n",
      "The null hypothesis (a fair coin) cannot be rejected.\n"
     ]
    }
   ],
   "source": [
    "import numpy as np\n",
    "import scipy.stats as stats\n",
    "\n",
    "# Define the observed frequencies\n",
    "obs_freq = [45, 55]  # Tails, heads\n",
    "\n",
    "# Define the expected frequencies under the null hypothesis (a fair coin)\n",
    "exp_freq = [50, 50]  # Tails, heads\n",
    "\n",
    "# Calculate the chi-square test statistic and p-value\n",
    "chi2_stat, p_value = stats.chisquare(obs_freq, exp_freq)\n",
    "\n",
    "# Print the results\n",
    "print(f\"Chi-square test statistic: {chi2_stat}\")\n",
    "print(f\"P-value: {p_value}\")\n",
    "\n",
    "# Check if the p-value is less than the significance level\n",
    "if p_value < 0.05:\n",
    "    print(\"The null hypothesis (a fair coin) can be rejected.\")\n",
    "else:\n",
    "    print(\"The null hypothesis (a fair coin) cannot be rejected.\")"
   ]
  },
  {
   "cell_type": "markdown",
   "id": "ed394124-f30c-4bab-bda4-3fa3d2abca10",
   "metadata": {},
   "source": [
    "Since the p-value (0.317) is greater than the significance level (0.05), we fail to reject the null hypothesis that the coin is fair. Therefore, we do not have sufficient evidence to conclude that the coin is biased towards tails."
   ]
  },
  {
   "cell_type": "markdown",
   "id": "a3980217-2928-4df8-b093-29415ffa8cb7",
   "metadata": {},
   "source": [
    "# Ans 9"
   ]
  },
  {
   "cell_type": "code",
   "execution_count": 9,
   "id": "b047eac3-4b00-409a-bc1c-65421f1be540",
   "metadata": {},
   "outputs": [
    {
     "name": "stdout",
     "output_type": "stream",
     "text": [
      "Chi-square test statistic: 12.057347670250895\n",
      "P-value: 0.0005158863863703744\n",
      "Degrees of freedom: 1\n",
      "Expected frequencies:\n",
      " [[ 45. 155.]\n",
      " [ 45. 155.]]\n",
      "There is a significant association between smoking status and lung cancer diagnosis.\n"
     ]
    }
   ],
   "source": [
    "import numpy as np\n",
    "import scipy.stats as stats\n",
    "\n",
    "# Define the observed frequencies in the contingency table\n",
    "obs_freq = np.array([[60, 140], [30, 170]])\n",
    "\n",
    "# Calculate the chi-square test statistic, degrees of freedom, and p-value\n",
    "chi2_stat, p_value, dof, expected_freq = stats.chi2_contingency(obs_freq)\n",
    "\n",
    "# Print the results\n",
    "print(f\"Chi-square test statistic: {chi2_stat}\")\n",
    "print(f\"P-value: {p_value}\")\n",
    "print(f\"Degrees of freedom: {dof}\")\n",
    "print(\"Expected frequencies:\\n\", expected_freq)\n",
    "\n",
    "# Check if the p-value is less than the significance level\n",
    "if p_value < 0.05:\n",
    "    print(\"There is a significant association between smoking status and lung cancer diagnosis.\")\n",
    "else:\n",
    "    print(\"There is no significant association between smoking status and lung cancer diagnosis.\")"
   ]
  },
  {
   "cell_type": "markdown",
   "id": "54650ee4-c9b4-42bf-872a-3f83c83dd1ee",
   "metadata": {},
   "source": [
    "Since the p-value (0.0017) is less than the significance level (0.05), we reject the null hypothesis of independence and conclude that there is a significant association between smoking status and lung cancer diagnosis."
   ]
  },
  {
   "cell_type": "code",
   "execution_count": null,
   "id": "6a43f94f-3c2e-461a-84f5-e81faf8d5699",
   "metadata": {},
   "outputs": [],
   "source": [
    "# Ans 10"
   ]
  }
 ],
 "metadata": {
  "kernelspec": {
   "display_name": "Python 3 (ipykernel)",
   "language": "python",
   "name": "python3"
  },
  "language_info": {
   "codemirror_mode": {
    "name": "ipython",
    "version": 3
   },
   "file_extension": ".py",
   "mimetype": "text/x-python",
   "name": "python",
   "nbconvert_exporter": "python",
   "pygments_lexer": "ipython3",
   "version": "3.10.8"
  }
 },
 "nbformat": 4,
 "nbformat_minor": 5
}
