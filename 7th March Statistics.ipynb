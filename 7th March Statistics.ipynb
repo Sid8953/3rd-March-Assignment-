{
 "cells": [
  {
   "cell_type": "markdown",
   "id": "b37106db-3b0d-474b-8ee3-4714bb025720",
   "metadata": {},
   "source": [
    "# Ans 1\n",
    "\n",
    "The three measures of central tendency are:\n",
    "\n",
    "1> Mean: The mean is the arithmetic average of a set of numbers. It is calculated by adding up all the numbers in the set and then dividing the total by the number of items in the set.\n",
    "\n",
    "2>Median: The median is the middle value in a set of numbers that are arranged in order. To find the median, you need to sort the numbers in ascending or descending order and then find the middle value. If there are an even number of values, the median is the average of the two middle values.\n",
    "\n",
    "3>Mode: The mode is the value that occurs most frequently in a set of numbers. A set of numbers can have one mode, more than one mode (if two or more values occur with the same highest frequency), or no mode (if no value occurs more frequently than any other value in the set)."
   ]
  },
  {
   "cell_type": "markdown",
   "id": "0c0e7d67-02bb-40cf-953d-5669f8850b69",
   "metadata": {},
   "source": [
    "# Ans 2\n",
    "\n",
    "The mean, median, and mode are all measures of central tendency used to describe the typical or central value in a dataset. However, they differ in the way they are calculated and in their interpretation.\n",
    "\n",
    "The mean is the sum of all the values in the dataset divided by the total number of values. It is affected by extreme values, or outliers, in the dataset and may not be a good representation of the central tendency if the dataset has a skewed distribution.\n",
    "\n",
    "The median is the middle value in the dataset, such that half of the values are greater than or equal to the median, and the other half are less than or equal to the median. The median is less sensitive to outliers than the mean and is a better measure of central tendency for skewed distributions.\n",
    "\n",
    "The mode is the value that occurs most frequently in the dataset. It is not affected by extreme values, but it may not exist or may not be unique if there are multiple values with the same frequency.\n",
    "\n",
    "In practice, the choice of the measure of central tendency depends on the characteristics of the dataset and the research question. For example, the mean is often used when the dataset has a normal distribution, while the median is preferred when the dataset is skewed. The mode is often used when describing categorical data or when looking for the most typical value in a dataset."
   ]
  },
  {
   "cell_type": "markdown",
   "id": "ed8c3894-1d39-472e-a7b9-8e3f41d26abd",
   "metadata": {},
   "source": [
    "# Ans 3\n",
    "\n",
    "First, we need to sort the dataset in ascending order:\n",
    "\n",
    "[172.5, 175, 175, 176, 176.2, 176.5, 177, 177, 178, 178, 178, 178.2, 178.9, 179, 180]\n",
    "\n",
    "Next, we can use the formulas to calculate the measures of central tendency:\n",
    "\n",
    "Mean = (172.5 + 175 + 175 + 176 + 176.2 + 176.5 + 177 + 177 + 178 + 178 + 178 + 178.2 + 178.9 + 179 + 180) / 15\n",
    "\n",
    "Mean = 176.97\n",
    "\n",
    "Median = 177\n",
    "\n",
    "Mode = 178\n",
    "\n",
    "Therefore, the mean height of the dataset is approximately 176.97 cm, the median height is 177 cm, and the mode is 178 cm."
   ]
  },
  {
   "cell_type": "markdown",
   "id": "989f1936-014c-49cd-a7d6-2fc235aa2c2f",
   "metadata": {},
   "source": [
    "# Ans 4\n",
    "\n",
    "1>Find the mean of the data set: Mean = (178 + 177 + 176 + 177 + 178.2 + 178 + 175 + 179 + 180 + 175 + 178.9 + 176.2 + 177 + 172.5 + 178 + 176.5) / 16 = 1768.3 / 16 = 110.519\n",
    "\n",
    "2>Subtract the mean from each value in the data set: Differences = [67.481, 66.481, 65.481, 66.481, 67.681, 67.481, 64.481, 68.481, 69.481, 64.481, 68.381, 65.681, 66.481, 62.981, 67.481, 65.981]\n",
    "\n",
    "3>Square each difference: Squared differences = [4555.238561, 4416.238561, 4283.238561, 4416.238561, 4571.737161, 4555.238561, 4162.238561, 4698.238561, 4835.238561, 4162.238561, 4678.951561, 4317.296961, 4416.238561, 3964.256961, 4555.238561, 4364.956961]\n",
    "\n",
    "4>Find the mean of the squared differences: Mean squared difference = (4555.238561 + 4416.238561 + 4283.238561 + 4416.238561 + 4571.737161 + 4555.238561 + 4162.238561 + 4698.238561 + 4835.238561 + 4162.238561 + 4678.951561 + 4317.296961 + 4416.238561 + 3964.256961 + 4555.238561 + 4364.956961) / 16 = 4191.038899 / 16 = 261.939931\n",
    "\n",
    "5>Take the square root of the mean squared difference to get the standard deviation: Standard deviation = √(261.939931) = 16.186"
   ]
  },
  {
   "cell_type": "markdown",
   "id": "93c4a57f-33e2-4bed-994e-66632a77efb2",
   "metadata": {},
   "source": [
    "# Ans 5\n",
    "\n",
    "Measures of dispersion such as range, variance, and standard deviation are used to describe the spread of a dataset by indicating how spread out or tightly clustered the data points are around the central tendency (mean, median, or mode).\n",
    "\n",
    "The range is the simplest measure of dispersion and is defined as the difference between the largest and smallest values in the dataset. It provides a rough estimate of how much the data points vary from one another.\n",
    "\n",
    "The variance and standard deviation are more precise measures of dispersion that take into account the distance of each data point from the mean. The variance is calculated as the average of the squared deviations from the mean, while the standard deviation is the square root of the variance. A higher variance or standard deviation indicates that the data points are more spread out from the mean, while a lower variance or standard deviation indicates that the data points are more tightly clustered around the mean.\n",
    "\n",
    "For example, consider two datasets of student scores on a test:\n",
    "\n",
    "Dataset 1: [70, 75, 80, 85, 90] Dataset 2: [60, 70, 80, 90, 100]\n",
    "\n",
    "Both datasets have the same mean score of 80, but they have different spreads of scores. The range of Dataset 1 is 20 (90-70), while the range of Dataset 2 is 40 (100-60), indicating that the scores in Dataset 2 are more spread out. The variance of Dataset 1 is 62.5, and the standard deviation is 7.91, while the variance of Dataset 2 is 200 and the standard deviation is 14.14, again indicating that the scores in Dataset 2 are more spread out. Therefore, measures of dispersion such as range, variance, and standard deviation can provide valuable information about the spread of a dataset and help us better understand the distribution of data points."
   ]
  },
  {
   "cell_type": "markdown",
   "id": "5a18d268-8094-4e07-b43b-c5083246f748",
   "metadata": {},
   "source": [
    "# Ans 6\n",
    "\n",
    "A Venn diagram is a visual tool used to represent sets of objects or elements, and their relationships to each other. It consists of overlapping circles, where each circle represents a set, and the overlapping region represents the elements that belong to both sets. It is commonly used in mathematics, logic, and statistics to visually illustrate relationships and overlaps between sets of data, and can help to simplify complex concepts and data sets."
   ]
  },
  {
   "cell_type": "markdown",
   "id": "d0f6e47f-76c2-4ee7-abc7-46dce5ab253c",
   "metadata": {},
   "source": [
    "# Ans 7\n",
    "\n",
    "(i) A ∩ B (the intersection of A and B) is the set of elements that are common to both sets A and B. Therefore: A ∩ B = {2,6}\n",
    "\n",
    "(ii) A ⋃ B (the union of A and B) is the set of all elements that are in A, or B, or both. Therefore: A ⋃ B = {0,2,3,4,5,6,7,8,10}"
   ]
  },
  {
   "cell_type": "markdown",
   "id": "81de86db-a782-4614-985c-3d0eca340b12",
   "metadata": {},
   "source": [
    "# Ans 8\n",
    "\n",
    "Skewness is a measure of the asymmetry or lack of symmetry in a dataset. It indicates the degree to which the data is skewed or distorted from a normal distribution.\n",
    "\n",
    "In a normal distribution, the data is symmetrical, with an equal number of data points on either side of the mean. However, in a skewed distribution, the data is not evenly distributed, with one tail of the distribution being longer or stretched out than the other.\n",
    "\n",
    "There are two types of skewness:\n",
    "\n",
    "1>Positive skewness: In a positively skewed distribution, the tail of the distribution extends to the right, with most of the data concentrated on the left side of the distribution. This is also called right-skewed or right-tailed distribution.\n",
    "\n",
    "2>Negative skewness: In a negatively skewed distribution, the tail of the distribution extends to the left, with most of the data concentrated on the right side of the distribution. This is also called left-skewed or left-tailed distribution.\n",
    "\n",
    "Skewness can have an impact on statistical analysis, as it can affect the central tendency of the data (mean, median, and mode) and the accuracy of some statistical tests. It is important to identify the presence and degree of skewness in a dataset before making any conclusions or decisions based on the data."
   ]
  },
  {
   "cell_type": "markdown",
   "id": "221b762b-09c3-402c-a504-99d1e12bfc9f",
   "metadata": {},
   "source": [
    "# Ans 9\n",
    "\n",
    "If a data is right skewed, the median will be less than the mean. This is because in a right-skewed distribution, the tail of the distribution is on the right side, which means there are some extreme values on the right side that pull the mean towards the right, making it higher than the median. The median, on the other hand, is not affected by extreme values and is only influenced by the values in the middle of the distribution. As a result, the median is typically less than the mean in a right-skewed distribution."
   ]
  },
  {
   "cell_type": "markdown",
   "id": "98c8343b-ee33-4d7d-86cc-5fc75275cbd0",
   "metadata": {},
   "source": [
    "# Ans 10\n",
    "\n",
    "Covariance and correlation are both measures of the relationship between two variables in a dataset. However, there are some key differences between these two measures:\n",
    "\n",
    "1>Definition: Covariance measures the degree to which two variables in a dataset vary together, while correlation measures the strength and direction of the linear relationship between two variables.\n",
    "\n",
    "2>Range of values: Covariance can take on any value between negative infinity and positive infinity, while correlation is limited to values between -1 and 1.\n",
    "\n",
    "3.Interpretation: A positive covariance indicates that two variables tend to increase or decrease together, while a negative covariance indicates that one variable tends to increase while the other decreases. However, the magnitude of covariance is difficult to interpret. On the other hand, correlation provides a clear indication of the strength and direction of the relationship between two variables. A positive correlation means that as one variable increases, the other variable tends to increase, and vice versa. A negative correlation means that as one variable increases, the other variable tends to decrease, and vice versa.\n",
    "\n",
    "4>Units: Covariance is expressed in the units of the variables being measured, while correlation is unitless, as it measures the relationship between variables relative to their standard deviations."
   ]
  },
  {
   "cell_type": "markdown",
   "id": "76cd4f18-5851-408d-8f2e-68d3fa17e89a",
   "metadata": {},
   "source": [
    "# Ans 11\n",
    "\n",
    "The formula for calculating the sample mean (also known as the arithmetic mean) is:\n",
    "\n",
    "sample mean = (sum of all values in the dataset) / (number of values in the dataset)\n",
    "\n",
    "For example, consider the following dataset:\n",
    "\n",
    "4, 8, 6, 10, 12\n",
    "\n",
    "To find the sample mean of this dataset, we first need to add up all the values:\n",
    "\n",
    "4 + 8 + 6 + 10 + 12 = 40\n",
    "\n",
    "Next, we divide the sum by the number of values in the dataset, which is 5:\n",
    "\n",
    "sample mean = 40 / 5 = 8\n",
    "\n",
    "Therefore, the sample mean of this dataset is 8.\n",
    "\n"
   ]
  },
  {
   "cell_type": "code",
   "execution_count": null,
   "id": "01999f54-795e-41c9-b912-bded6a1e3936",
   "metadata": {},
   "outputs": [],
   "source": [
    "# Ans "
   ]
  }
 ],
 "metadata": {
  "kernelspec": {
   "display_name": "Python 3 (ipykernel)",
   "language": "python",
   "name": "python3"
  },
  "language_info": {
   "codemirror_mode": {
    "name": "ipython",
    "version": 3
   },
   "file_extension": ".py",
   "mimetype": "text/x-python",
   "name": "python",
   "nbconvert_exporter": "python",
   "pygments_lexer": "ipython3",
   "version": "3.10.8"
  }
 },
 "nbformat": 4,
 "nbformat_minor": 5
}
