{
 "cells": [
  {
   "cell_type": "markdown",
   "id": "27b76c4a-8f66-4bd2-8a39-927d6c3376c4",
   "metadata": {},
   "source": [
    "# Ans 1"
   ]
  },
  {
   "cell_type": "code",
   "execution_count": null,
   "id": "d65efa58-d902-44a8-a192-b8adde5f133b",
   "metadata": {},
   "outputs": [],
   "source": [
    "import seaborn as sns\n",
    "import plotly.express as px\n",
    "\n",
    "titanic_df = sns.load_dataset('titanic')\n",
    "\n",
    "fig = px.scatter(titanic_df, x='age', y='fare')\n",
    "\n",
    "fig.show()"
   ]
  },
  {
   "cell_type": "markdown",
   "id": "f366535a-3093-4cf8-b769-399738878bb4",
   "metadata": {},
   "source": [
    "# Ans 2"
   ]
  },
  {
   "cell_type": "code",
   "execution_count": null,
   "id": "c30735eb-878a-45c8-931a-c41a097286b7",
   "metadata": {},
   "outputs": [],
   "source": [
    "import plotly.express as px\n",
    "\n",
    "tips_df = px.data.tips()\n",
    "\n",
    "fig = px.box(tips_df, x='day', y='total_bill')\n",
    "\n",
    "fig.show()"
   ]
  },
  {
   "cell_type": "markdown",
   "id": "6e0b8d71-510a-4e5c-852d-b76345104bf2",
   "metadata": {},
   "source": [
    "# Ans 3"
   ]
  },
  {
   "cell_type": "code",
   "execution_count": null,
   "id": "cc73c39b-fb50-4d87-980b-6d3ff6242c41",
   "metadata": {},
   "outputs": [],
   "source": [
    "import plotly.express as px\n",
    "\n",
    "tips_df = px.data.tips()\n",
    "\n",
    "fig = px.histogram(tips_df, x='sex', y='total_bill', color='day', pattern_shape='smoker')\n",
    "\n",
    "fig.show()"
   ]
  },
  {
   "cell_type": "markdown",
   "id": "f3cd8696-f8c6-45b4-b3ab-2b537b44db62",
   "metadata": {},
   "source": [
    "# Ans 4"
   ]
  },
  {
   "cell_type": "code",
   "execution_count": null,
   "id": "1096e22a-ba28-43e2-ac6a-c464ff1a8142",
   "metadata": {},
   "outputs": [],
   "source": [
    "import plotly.express as px\n",
    "\n",
    "iris_df = px.data.iris()\n",
    "\n",
    "fig = px.scatter_matrix(iris_df, dimensions=['sepal_length', 'sepal_width', 'petal_length', 'petal_width'], color='species')\n",
    "\n",
    "fig.show()"
   ]
  },
  {
   "cell_type": "markdown",
   "id": "f26d9e05-eee3-4b42-b7cf-03bc7b75f62d",
   "metadata": {},
   "source": [
    "# Ans 5\n",
    "\n",
    "Distplot is a function in the Seaborn library that can be used to visualize the distribution of a single variable. It combines a histogram and a kernel density estimate plot to show the shape of the distribution and the density estimate of the data. The distplot function is now deprecated and has been replaced by the displot function in Seaborn."
   ]
  },
  {
   "cell_type": "code",
   "execution_count": null,
   "id": "51a587f0-9ba6-48c5-9d09-56a97d77e681",
   "metadata": {},
   "outputs": [],
   "source": [
    "import plotly.express as px\n",
    "import seaborn as sns\n",
    "\n",
    "tips = sns.load_dataset(\"tips\")\n",
    "\n",
    "fig = px.histogram(tips, x=\"total_bill\", nbins=20, marginal=\"box\")\n",
    "\n",
    "fig.show()"
   ]
  },
  {
   "cell_type": "code",
   "execution_count": null,
   "id": "e36f2e7f-04d9-445d-84eb-c395b2b1be55",
   "metadata": {},
   "outputs": [],
   "source": []
  }
 ],
 "metadata": {
  "kernelspec": {
   "display_name": "Python 3 (ipykernel)",
   "language": "python",
   "name": "python3"
  },
  "language_info": {
   "codemirror_mode": {
    "name": "ipython",
    "version": 3
   },
   "file_extension": ".py",
   "mimetype": "text/x-python",
   "name": "python",
   "nbconvert_exporter": "python",
   "pygments_lexer": "ipython3",
   "version": "3.10.8"
  }
 },
 "nbformat": 4,
 "nbformat_minor": 5
}
