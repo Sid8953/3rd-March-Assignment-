{
 "cells": [
  {
   "cell_type": "markdown",
   "id": "279ca3c6-a411-43eb-801d-ac63f05262a5",
   "metadata": {},
   "source": [
    "# Ans 1"
   ]
  },
  {
   "cell_type": "code",
   "execution_count": 1,
   "id": "1cb23787-1927-4263-8696-11fe2310b956",
   "metadata": {},
   "outputs": [
    {
     "name": "stdout",
     "output_type": "stream",
     "text": [
      "F-value: 0.6756756756756757\n",
      "p-value: 0.356651337652311\n"
     ]
    }
   ],
   "source": [
    "import numpy as np\n",
    "from scipy.stats import f\n",
    "\n",
    "def variance_ratio_test(arr1, arr2):\n",
    "    n1 = len(arr1)\n",
    "    n2 = len(arr2)\n",
    "    mean1 = np.mean(arr1)\n",
    "    mean2 = np.mean(arr2)\n",
    "    var1 = np.var(arr1, ddof=1)\n",
    "    var2 = np.var(arr2, ddof=1)\n",
    "    f_stat = var1/var2\n",
    "    p_val = f.cdf(f_stat, n1-1, n2-1)\n",
    "    return f_stat, p_val\n",
    "\n",
    "\n",
    "arr1 = [1, 2, 3, 4, 5]\n",
    "arr2 = [1, 2, 3, 4, 6]\n",
    "f_val, p_val = variance_ratio_test(arr1, arr2)\n",
    "print(\"F-value:\", f_val)\n",
    "print(\"p-value:\", p_val)"
   ]
  },
  {
   "cell_type": "markdown",
   "id": "fa450190-d34a-46ce-b829-2f62994731f1",
   "metadata": {},
   "source": [
    "# Ans 2"
   ]
  },
  {
   "cell_type": "code",
   "execution_count": 2,
   "id": "54386bb0-06ea-4c96-8cde-c8058efc3ada",
   "metadata": {},
   "outputs": [
    {
     "data": {
      "text/plain": [
       "5.456395525912731"
      ]
     },
     "execution_count": 2,
     "metadata": {},
     "output_type": "execute_result"
    }
   ],
   "source": [
    "from scipy.stats import f\n",
    "\n",
    "def critical_f_value(numerator_df, denominator_df, alpha=0.05):\n",
    "    # Calculate the critical F-value using the ppf function from the f distribution\n",
    "    # The F-distribution takes the numerator and denominator degrees of freedom as parameters\n",
    "    # The ppf function calculates the value of F for a given cumulative probability (1 - alpha/2 for a two-tailed test)\n",
    "    # and returns the value of F for which the cumulative probability is equal to that value\n",
    "    return f.ppf(1 - alpha/2, numerator_df, denominator_df)\n",
    "\n",
    "critical_f_value(2, 10)"
   ]
  },
  {
   "cell_type": "markdown",
   "id": "32582f10-876d-4099-8b3c-b0ca86f72ce2",
   "metadata": {},
   "source": [
    "# Ans 3"
   ]
  },
  {
   "cell_type": "code",
   "execution_count": 4,
   "id": "b25bc21e-1d43-4ef3-a20f-124bb06d6ab1",
   "metadata": {},
   "outputs": [
    {
     "name": "stdout",
     "output_type": "stream",
     "text": [
      "F-value: 0.6184089200351394\n",
      "Degrees of freedom (numerator, denominator): 29 29\n",
      "P-value: 0.20162963764723701\n"
     ]
    }
   ],
   "source": [
    "import numpy as np\n",
    "from scipy.stats import f\n",
    "\n",
    "# Set seed for reproducibility\n",
    "np.random.seed(123)\n",
    "\n",
    "# Generate random samples from two normal distributions with known variances\n",
    "n1 = 30\n",
    "n2 = 30\n",
    "mean1 = 0\n",
    "mean2 = 0\n",
    "var1 = 1\n",
    "var2 = 1.5\n",
    "\n",
    "sample1 = np.random.normal(loc=mean1, scale=np.sqrt(var1), size=n1)\n",
    "sample2 = np.random.normal(loc=mean2, scale=np.sqrt(var2), size=n2)\n",
    "\n",
    "# Perform F-test for equality of variances\n",
    "F = np.var(sample1, ddof=1) / np.var(sample2, ddof=1)\n",
    "dfn = n1 - 1\n",
    "dfd = n2 - 1\n",
    "p_value = 2 * min(f.cdf(F, dfn, dfd), 1 - f.cdf(F, dfn, dfd))\n",
    "\n",
    "# Output results\n",
    "print(\"F-value:\", F)\n",
    "print(\"Degrees of freedom (numerator, denominator):\", dfn, dfd)\n",
    "print(\"P-value:\", p_value)"
   ]
  },
  {
   "cell_type": "markdown",
   "id": "fa88c81a-9fab-4cdd-bed8-438c461d23a6",
   "metadata": {},
   "source": [
    "In this example, we generate two random samples of size 30 each from normal distributions with known variances of 1 and 1.5, respectively. We then perform an F-test for equality of variances using the np.var and f.cdf functions from the scipy.stats module. Finally, we output the F-value, degrees of freedom, and p-value for the test.\n",
    "\n",
    "Note that the 2 * min(f.cdf(F, dfn, dfd), 1 - f.cdf(F, dfn, dfd)) expression is used to obtain the p-value for a two-tailed test, since we are testing the hypothesis that the variances are not equal. If you were testing the hypothesis that the variances are equal (i.e., a one-tailed test), you would only need to use f.cdf(F, dfn, dfd) or 1 - f.cdf(F, dfn, dfd) depending on the direction of the test."
   ]
  },
  {
   "cell_type": "markdown",
   "id": "7a21bcd9-e5f2-4445-aeb1-88ab511612cd",
   "metadata": {},
   "source": [
    "# Ans 4"
   ]
  },
  {
   "cell_type": "markdown",
   "id": "0b1a9053-5132-4c7d-8a63-77ac856c2c4f",
   "metadata": {},
   "source": [
    "we can conduct an F-test to determine if the variances of two populations are significantly different. Here's how we can do it step-by-step:\n",
    "\n",
    "State the null and alternative hypotheses:\n",
    "\n",
    "Null hypothesis: The variances of the two populations are equal. Alternative hypothesis: The variances of the two populations are significantly different. Set the significance level to 0.05.\n",
    "\n",
    "Determine the critical F-value using the scipy.stats module. For a two-tailed test with 11 degrees of freedom in the numerator (12-1) and 10 degrees of freedom in the denominator (the smaller sample size minus 1), the critical F-value at a 5% significance level is:"
   ]
  },
  {
   "cell_type": "code",
   "execution_count": 5,
   "id": "597c5a49-7e8e-4386-8f2c-1eb1add153d7",
   "metadata": {},
   "outputs": [
    {
     "name": "stdout",
     "output_type": "stream",
     "text": [
      "Critical F-value: 3.6649139653923886\n"
     ]
    }
   ],
   "source": [
    "from scipy.stats import f\n",
    "\n",
    "alpha = 0.05\n",
    "dfn = 11\n",
    "dfd = 10\n",
    "critical_f = f.ppf(1 - alpha/2, dfn, dfd)\n",
    "print(\"Critical F-value:\", critical_f)"
   ]
  },
  {
   "cell_type": "code",
   "execution_count": 6,
   "id": "9eb8a9c1-a4b7-40d4-875d-0a787aa83bc0",
   "metadata": {},
   "outputs": [
    {
     "name": "stdout",
     "output_type": "stream",
     "text": [
      "Sample 1 variance: 7.437411933554833\n",
      "Sample 2 variance: 23.163695048506494\n",
      "Test statistic F: 0.32108054945380443\n"
     ]
    }
   ],
   "source": [
    "import numpy as np\n",
    "\n",
    "sample_size = 12\n",
    "\n",
    "# Sample from the first population\n",
    "sample1 = np.random.normal(loc=0, scale=np.sqrt(10), size=sample_size)\n",
    "var1 = np.var(sample1, ddof=1)\n",
    "\n",
    "# Sample from the second population\n",
    "sample2 = np.random.normal(loc=0, scale=np.sqrt(15), size=sample_size)\n",
    "var2 = np.var(sample2, ddof=1)\n",
    "\n",
    "# Calculate the test statistic F\n",
    "F = var1 / var2\n",
    "print(\"Sample 1 variance:\", var1)\n",
    "print(\"Sample 2 variance:\", var2)\n",
    "print(\"Test statistic F:\", F)"
   ]
  },
  {
   "cell_type": "code",
   "execution_count": 7,
   "id": "89e74097-f819-4877-be07-499b6edd94ff",
   "metadata": {},
   "outputs": [
    {
     "name": "stdout",
     "output_type": "stream",
     "text": [
      "Fail to reject null hypothesis.\n"
     ]
    }
   ],
   "source": [
    "if F > critical_f or F < 1/critical_f:\n",
    "    print(\"Reject null hypothesis in favor of alternative hypothesis.\")\n",
    "else:\n",
    "    print(\"Fail to reject null hypothesis.\")"
   ]
  },
  {
   "cell_type": "markdown",
   "id": "b9df2832-e21a-4a65-9057-119b88e97b04",
   "metadata": {},
   "source": [
    "# Ans 5"
   ]
  },
  {
   "cell_type": "markdown",
   "id": "4634af82-373f-4075-be18-3ed3aa3acbe9",
   "metadata": {},
   "source": [
    "we can conduct an F-test to determine if the manufacturer's claim about the variance of the diameter of a certain product is justified. Here's how we can do it step-by-step:\n",
    "\n",
    "State the null and alternative hypotheses:\n",
    "\n",
    "Null hypothesis: The population variance is equal to 0.005. Alternative hypothesis: The population variance is greater than 0.005. Set the significance level to 0.01.\n",
    "\n",
    "Determine the critical F-value using the scipy.stats module. For a one-tailed test with 24 degrees of freedom in the numerator (25-1) and 1 degree of freedom in the denominator (the sample size minus 1), the critical F-value at a 1% significance level is:\n",
    "\n",
    "python Copy code"
   ]
  },
  {
   "cell_type": "code",
   "execution_count": 8,
   "id": "042136d0-6e2f-4494-840b-dea02e1581e5",
   "metadata": {},
   "outputs": [
    {
     "name": "stdout",
     "output_type": "stream",
     "text": [
      "Critical F-value: 6234.6308935330835\n"
     ]
    }
   ],
   "source": [
    "from scipy.stats import f\n",
    "\n",
    "alpha = 0.01\n",
    "dfn = 24\n",
    "dfd = 1\n",
    "critical_f = f.ppf(1 - alpha, dfn, dfd)\n",
    "print(\"Critical F-value:\", critical_f)"
   ]
  },
  {
   "cell_type": "code",
   "execution_count": 9,
   "id": "9201d02d-535a-45e3-bc34-bc07de548bfd",
   "metadata": {},
   "outputs": [
    {
     "name": "stdout",
     "output_type": "stream",
     "text": [
      "Sample variance: 0.006\n",
      "Test statistic F: 1.2\n"
     ]
    }
   ],
   "source": [
    "sample_size = 25\n",
    "sample_var = 0.006\n",
    "\n",
    "# Calculate the test statistic F\n",
    "F = sample_var / 0.005\n",
    "print(\"Sample variance:\", sample_var)\n",
    "print(\"Test statistic F:\", F)"
   ]
  },
  {
   "cell_type": "code",
   "execution_count": 10,
   "id": "682ecad5-78d0-4877-b0fd-ee365f5867a4",
   "metadata": {},
   "outputs": [
    {
     "name": "stdout",
     "output_type": "stream",
     "text": [
      "Fail to reject null hypothesis.\n"
     ]
    }
   ],
   "source": [
    "if F > critical_f:\n",
    "    print(\"Reject null hypothesis in favor of alternative hypothesis.\")\n",
    "else:\n",
    "    print(\"Fail to reject null hypothesis.\")"
   ]
  },
  {
   "cell_type": "markdown",
   "id": "71a20696-34ce-4619-82f9-886b19c18e7c",
   "metadata": {},
   "source": [
    "# Ans 6"
   ]
  },
  {
   "cell_type": "code",
   "execution_count": 11,
   "id": "42f63583-4577-4afb-8a13-d2c633289bbc",
   "metadata": {},
   "outputs": [],
   "source": [
    "def mean_var_f_distribution(dfn, dfd):\n",
    "    \n",
    "    if dfn <= 0 or dfd <= 0:\n",
    "        raise ValueError(\"Degrees of freedom must be positive.\")\n",
    "\n",
    "    mean = dfd / (dfd - 2)\n",
    "    variance = (2 * (dfd ** 2) * (dfn + dfd - 2)) / (dfn * (dfd - 2) ** 2 * (dfd - 4))\n",
    "\n",
    "    return mean, variance"
   ]
  },
  {
   "cell_type": "code",
   "execution_count": 12,
   "id": "eadab3dd-9ceb-4c2c-88a5-b22c92807b45",
   "metadata": {},
   "outputs": [
    {
     "data": {
      "text/plain": [
       "(1.1111111111111112, 0.43209876543209874)"
      ]
     },
     "execution_count": 12,
     "metadata": {},
     "output_type": "execute_result"
    }
   ],
   "source": [
    "mean_var_f_distribution(10,20)"
   ]
  },
  {
   "cell_type": "markdown",
   "id": "4f9d741f-11e6-4fdb-b7e1-1f166df805a3",
   "metadata": {},
   "source": [
    "# Ans 7"
   ]
  },
  {
   "cell_type": "markdown",
   "id": "78ac5cda-28dd-4e6f-85d4-2317dcaf6874",
   "metadata": {},
   "source": [
    "To conduct an F-test for equality of variances, we use the following null and alternative hypotheses:\n",
    "\n",
    "H0: The variances of the two populations are equal. Ha: The variances of the two populations are not equal.\n",
    "\n",
    "We use the F-statistic to test the null hypothesis, which is defined as the ratio of the sample variances:\n",
    "\n",
    "F = s1^2 / s2^2\n",
    "\n",
    "where s1^2 and s2^2 are the sample variances from the first and second populations, respectively.\n",
    "\n",
    "Under the null hypothesis, the F-statistic follows an F-distribution with degrees of freedom (df1, df2), where df1 = n1 - 1 and df2 = n2 - 1 are the degrees of freedom for the two samples.\n",
    "\n",
    "To conduct the F-test at the 10% significance level, we first calculate the F-statistic as follows:\n",
    "\n",
    "F = 25 / 20 = 1.25\n",
    "\n",
    "Next, we calculate the critical value of F with df1 = 9 and df2 = 14 at the 10% significance level using a statistical table or calculator. The critical value of F is found to be 2.44.\n",
    "\n",
    "Since the calculated F-statistic of 1.25 is less than the critical value of 2.44, we fail to reject the null hypothesis. Therefore, we do not have sufficient evidence to conclude that the variances of the two populations are significantly different at the 10% significance level."
   ]
  },
  {
   "cell_type": "markdown",
   "id": "25b98cb5-06de-422d-b2e3-48ad1a016aa6",
   "metadata": {},
   "source": [
    "# Ans 8\n",
    "\n",
    "To conduct an F-test for equality of variances, we use the following null and alternative hypotheses:\n",
    "\n",
    "H0: The variances of the waiting times at the two restaurants are equal. Ha: The variances of the waiting times at the two restaurants are not equal.\n",
    "\n",
    "We use the F-statistic to test the null hypothesis, which is defined as the ratio of the sample variances:\n",
    "\n",
    "F = s1^2 / s2^2\n",
    "\n",
    "where s1^2 and s2^2 are the sample variances from the waiting times at Restaurant A and Restaurant B, respectively.\n",
    "\n",
    "Under the null hypothesis, the F-statistic follows an F-distribution with degrees of freedom (df1, df2), where df1 = n1 - 1 and df2 = n2 - 1 are the degrees of freedom for the two samples.\n",
    "\n",
    "Using the given data, we can calculate the sample variances as follows:\n",
    "\n",
    "s1^2 = 8.95 s2^2 = 7.2\n",
    "\n",
    "where n1 = 7 and n2 = 6.\n",
    "\n",
    "Next, we calculate the F-statistic as follows:\n",
    "\n",
    "F = s1^2 / s2^2 = 8.95 / 7.2 = 1.243\n",
    "\n",
    "Using a statistical table or calculator, we can find the critical value of F with df1 = 6 and df2 = 5 at the 5% significance level. The critical value of F is found to be 4.03.\n",
    "\n",
    "Since the calculated F-statistic of 1.243 is less than the critical value of 4.03, we fail to reject the null hypothesis. Therefore, we do not have sufficient evidence to conclude that the variances of the waiting times at the two restaurants are significantly different at the 5% significance level."
   ]
  },
  {
   "cell_type": "markdown",
   "id": "8741649b-5dfe-4826-b2ea-f3a433c1d762",
   "metadata": {},
   "source": [
    "# Ans 9\n",
    "\n",
    "conduct an F-test for equality of variances, we use the following null and alternative hypotheses:\n",
    "\n",
    "H0: The variances of the test scores of the two groups are equal. Ha: The variances of the test scores of the two groups are not equal.\n",
    "\n",
    "We use the F-statistic to test the null hypothesis, which is defined as the ratio of the sample variances:\n",
    "\n",
    "F = s1^2 / s2^2\n",
    "\n",
    "where s1^2 and s2^2 are the sample variances from Group A and Group B, respectively.\n",
    "\n",
    "Under the null hypothesis, the F-statistic follows an F-distribution with degrees of freedom (df1, df2), where df1 = n1 - 1 and df2 = n2 - 1 are the degrees of freedom for the two samples.\n",
    "\n",
    "Using the given data, we can calculate the sample variances as follows:\n",
    "\n",
    "s1^2 = 22.8 s2^2 = 6.8\n",
    "\n",
    "where n1 = 6 and n2 = 6.\n",
    "\n",
    "Next, we calculate the F-statistic as follows:\n",
    "\n",
    "F = s1^2 / s2^2 = 22.8 / 6.8 = 3.353\n",
    "\n",
    "Using a statistical table or calculator, we can find the critical value of F with df1 = 5 and df2 = 5 at the 1% significance level. The critical value of F is found to be 6.94.\n",
    "\n",
    "Since the calculated F-statistic of 3.353 is less than the critical value of 6.94, we fail to reject the null hypothesis. Therefore, we do not have sufficient evidence to conclude that the variances of the test scores of the two groups are significantly different at the 1% significance level."
   ]
  },
  {
   "cell_type": "code",
   "execution_count": null,
   "id": "1588c315-3a1b-4c63-af7f-24aeac66fde9",
   "metadata": {},
   "outputs": [],
   "source": []
  }
 ],
 "metadata": {
  "kernelspec": {
   "display_name": "Python 3 (ipykernel)",
   "language": "python",
   "name": "python3"
  },
  "language_info": {
   "codemirror_mode": {
    "name": "ipython",
    "version": 3
   },
   "file_extension": ".py",
   "mimetype": "text/x-python",
   "name": "python",
   "nbconvert_exporter": "python",
   "pygments_lexer": "ipython3",
   "version": "3.10.8"
  }
 },
 "nbformat": 4,
 "nbformat_minor": 5
}
